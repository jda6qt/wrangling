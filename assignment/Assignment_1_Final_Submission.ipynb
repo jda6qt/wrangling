{
 "cells": [
  {
   "cell_type": "markdown",
   "id": "971e202a",
   "metadata": {},
   "source": [
    "# Assignment 1: Wrangling\n",
    "## Q1 and Q2\n",
    "#### Hanna Svenson (jda6qt)"
   ]
  },
  {
   "cell_type": "markdown",
   "id": "c1f4e94e",
   "metadata": {},
   "source": [
    "**Q1. Open the \"tidy_data.pdf\" document in the repo, which is a paper called Tidy Data by Hadley Wickham.**\n",
    "\n",
    "1. Read the abstract. What is this paper about? \n",
    "\n",
    "This paper talks about data tidying, and its importance in making datasets easy to work with. Each variable is a column, each observation a row, and each tupe of observational unit a table. The paper will also explore the advantages with support from a case study\n",
    "\n",
    " 2. Read the introduction. What is the \"tidy data standard\" intended to accomplish?\n",
    " \n",
    "It aims to standardized how data sets are organized and cleaned. This will make initial data cleaning easier as it gives a good starting guide, it will create consistency across data sets to some extent, and it will make analysis and the implememtation of data tools down the line easier. \n",
    "\n",
    "3. Read the intro to section 2. What does this sentence mean: \"Like families, tidy datasets are all alike but every messy dataset is messy in its own way.\" What does this sentence mean: \"For a given dataset, it’s usually easy to figure out what are observations and what are variables, but it is surprisingly difficult to precisely define variables and observations in general.\"\n",
    "\n",
    "The first sentence seems to mean that data sets share the same general components (for example variables, observations), but there are so many different ways that this data can be disorganized and have problems.\n",
    "\n",
    "The second sentence means that when taking a view at one data set, it is easy to spot variables and observations as they will usually be in columns and rows. However, when taking a broader view they are harder to define, perhaps because their meanings are closely tied to what context they are in. \n",
    "\n",
    "4. Read Section 2.2. How does Wickham define values, variables, and observations?\n",
    "\n",
    "A value is a data point, usually a number or string, and belongs to a variable and observation. \n",
    "A variable is a set of values measuring the same attribute.\n",
    "An observation is the set of values from the same unit/source across the attributes.\n",
    "\n",
    "5. How is \"Tidy Data\" defined in section 2.3?\n",
    "\n",
    "It is a standard of structuring data such that each variable is a column, each observation is a row, and each observational unit forms a table. \n",
    "\n",
    "6. Read the intro to Section 3 and Section 3.1. What are the 5 most common problems with messy datasets? Why are the data in Table 4 messy? What is \"melting\" a dataset?\n",
    "\n",
    "The five problems: column headers are values, multiple variables stored in 1 column, variables are stored in both rows and columns instead of just columns, multiple observational unit tupes are in the same table, one observational unit is stored in multiple tables. \n",
    "\n",
    "Table 4 is messy, because it has income ranges in the column headers which should be values instead of variables.\n",
    "\n",
    "Melting a data set is the process of turning columns into rows. 1 column will be converted into 2, one for the heading and one for the value. \n",
    "\n",
    "7. Why, specifically, is table 11 messy but table 12 tidy and \"molten\"?\n",
    "\n",
    "Table 11 is messy because the observational units (days of the month) are spread across columns, and variables (tmin and tmax) are in rows. Table 12 is molten because it addresses these issues by making each date (observation) a row and moves the temperature values to the columns. \n",
    "\n",
    "8. Read Section 6. What is the \"chicken-and-egg\" problem with focusing on tidy data? What does Wickham hope happens in the future with further work on the subject of data wrangling?\n",
    "\n",
    "Chicken-and-egg in this context means that tidy data is only as useful as the tools that you use on it, and vice versa. Trying to improve only one aspect at a time will limit your overall improvement, as these two things are so closely linked that one will hold the other back. Wickham hopes that the tidy framework will be built on to create better frameworks and better tools. "
   ]
  },
  {
   "cell_type": "markdown",
   "id": "a2ac12bc",
   "metadata": {},
   "source": [
    "**Q2.** This question provides some practice cleaning variables which have common problems.\n",
    "1. Numeric variable: For `./data/airbnb_hw.csv`, clean the `Price` variable as well as you can, and explain the choices you make. How many missing values do you end up with? (Hint: What happens to the formatting when a price goes over 999 dollars, say from 675 to 1,112?)\n",
    "2. Categorical variable: For the `./data/sharks.csv` data covered in the lecture, clean the \"Type\" variable as well as you can, and explain the choices you make.\n",
    "3. Dummy variable: For the pretrial data covered in the lecture, clean the `WhetherDefendantWasReleasedPretrial` variable as well as you can, and, in particular, replace missing values with `np.nan`.\n",
    "4. Missing values, not at random: For the pretrial data covered in the lecture, clean the `ImposedSentenceAllChargeInContactEvent` variable as well as you can, and explain the choices you make. (Hint: Look at the `SentenceTypeAllChargesAtConvictionInContactEvent` variable.)"
   ]
  },
  {
   "cell_type": "markdown",
   "id": "3a425f24",
   "metadata": {},
   "source": [
    "**2.1 Explanation**\n",
    "\n",
    "First I looked at unique price values to see what happens to larger prices. When I first tried coercion, I saw that the max value left on the prices was 999, so I determined that once a value exceeded this there were issues. I concluded that I should remove the commas from all the price values, and then try coercion again. This increased the max value to 10000, and there were no more missing values (values lost from reading these values as numbers).\n",
    "\n",
    "See the 2 code blocks below."
   ]
  },
  {
   "cell_type": "code",
   "execution_count": 1,
   "id": "22f117b5",
   "metadata": {},
   "outputs": [
    {
     "name": "stdout",
     "output_type": "stream",
     "text": [
      "['145' '37' '28' '199' '549' '149' '250' '90' '270' '290' '170' '59' '49'\n",
      " '68' '285' '75' '100' '150' '700' '125' '175' '40' '89' '95' '99' '499'\n",
      " '120' '79' '110' '180' '143' '230' '350' '135' '85' '60' '70' '55' '44'\n",
      " '200' '165' '115' '74' '84' '129' '50' '185' '80' '190' '140' '45' '65'\n",
      " '225' '600' '109' '1,990' '73' '240' '72' '105' '155' '160' '42' '132'\n",
      " '117' '295' '280' '159' '107' '69' '239' '220' '399' '130' '375' '585'\n",
      " '275' '139' '260' '35' '133' '300' '289' '179' '98' '195' '29' '27' '39'\n",
      " '249' '192' '142' '169' '1,000' '131' '138' '113' '122' '329' '101' '475'\n",
      " '238' '272' '308' '126' '235' '315' '248' '128' '56' '207' '450' '215'\n",
      " '210' '385' '445' '136' '247' '118' '77' '76' '92' '198' '205' '299'\n",
      " '222' '245' '104' '153' '349' '114' '320' '292' '226' '420' '500' '325'\n",
      " '307' '78' '265' '108' '123' '189' '32' '58' '86' '219' '800' '335' '63'\n",
      " '229' '425' '67' '87' '1,200' '158' '650' '234' '310' '695' '400' '166'\n",
      " '119' '62' '168' '340' '479' '43' '395' '144' '52' '47' '529' '187' '209'\n",
      " '233' '82' '269' '163' '172' '305' '156' '550' '435' '137' '124' '48'\n",
      " '279' '330' '5,000' '134' '378' '97' '277' '64' '193' '147' '186' '264'\n",
      " '30' '3,000' '112' '94' '379' '57' '415' '236' '410' '214' '88' '66' '71'\n",
      " '171' '157' '545' '1,500' '83' '96' '1,800' '81' '188' '380' '255' '505'\n",
      " '54' '33' '174' '93' '740' '640' '1,300' '440' '599' '357' '1,239' '495'\n",
      " '127' '5,999' '178' '348' '152' '242' '183' '253' '750' '259' '365' '273'\n",
      " '197' '397' '103' '389' '355' '559' '38' '203' '999' '141' '162' '333'\n",
      " '698' '46' '360' '895' '10' '41' '206' '281' '449' '388' '212' '102'\n",
      " '201' '2,750' '4,750' '432' '675' '167' '390' '298' '339' '194' '302'\n",
      " '211' '595' '191' '53' '361' '480' '8,000' '4,500' '459' '997' '345'\n",
      " '216' '218' '111' '735' '276' '91' '490' '850' '398' '36' '775' '267'\n",
      " '625' '336' '2,500' '176' '725' '3,750' '469' '106' '460' '287' '575'\n",
      " '227' '263' '25' '228' '208' '177' '880' '148' '116' '685' '470' '217'\n",
      " '164' '61' '645' '699' '405' '252' '319' '268' '419' '343' '525' '311'\n",
      " '840' '154' '294' '950' '409' '184' '257' '204' '241' '2,000' '412' '121'\n",
      " '288' '196' '900' '647' '524' '1,750' '309' '510' '1,495' '1,700' '799'\n",
      " '383' '372' '492' '327' '1,999' '656' '224' '173' '875' '1,170' '795'\n",
      " '690' '146' '465' '1,100' '151' '274' '429' '825' '282' '256' '1,111'\n",
      " '620' '271' '161' '51' '855' '579' '1,174' '430' '20' '899' '649' '485'\n",
      " '181' '455' '4,000' '243' '342' '590' '560' '374' '437' '232' '359' '985'\n",
      " '31' '244' '254' '723' '237' '428' '370' '34' '1,400' '580' '2,520' '221'\n",
      " '749' '1,600' '2,695' '306' '202' '680' '570' '520' '223' '2,295' '213'\n",
      " '1,065' '346' '24' '286' '296' '266' '26' '995' '1,368' '393' '182' '635'\n",
      " '258' '780' '589' '347' '1,250' '1,350' '446' '3,200' '1,050' '1,650'\n",
      " '1,550' '975' '323' '6,500' '2,499' '1,850' '2,250' '715' '461' '540'\n",
      " '356' '439' '384' '569' '1,900' '22' '785' '626' '830' '318' '444' '321'\n",
      " '401' '1,499' '888' '369' '770' '386' '366' '344' '630' '313' '597' '262'\n",
      " '509' '10,000' '278' '312' '789' '1,195' '422' '21' '765' '3,500' '945'\n",
      " '326' '3,100' '2,486' '3,390' '1,356' '2,599' '472' '454' '328' '396'\n",
      " '291']\n",
      "Before coercion: \n",
      " count     30478\n",
      "unique      511\n",
      "top         150\n",
      "freq       1481\n",
      "Name: Price, dtype: object \n",
      "\n"
     ]
    }
   ],
   "source": [
    "## 2.1\n",
    "\n",
    "import numpy as np # Import the numpy package into your workspace\n",
    "import matplotlib.pyplot as plt # Import matplotlib into your workspace\n",
    "import pandas as pd  # Import the pandas package into your workspace\n",
    "\n",
    "df = pd.read_csv('./data/airbnb_hw.csv',low_memory=False)\n",
    "print(df['Price'].unique())\n",
    "\n",
    "var = 'Price'\n",
    "print('Before coercion: \\n', df[var].describe(),'\\n') # The age variable is not read by Pandas as a number"
   ]
  },
  {
   "cell_type": "code",
   "execution_count": 2,
   "id": "b2c578c1",
   "metadata": {},
   "outputs": [
    {
     "name": "stdout",
     "output_type": "stream",
     "text": [
      "After coercion: \n",
      " count    30478.000000\n",
      "mean       163.589737\n",
      "std        197.785454\n",
      "min         10.000000\n",
      "25%         80.000000\n",
      "50%        125.000000\n",
      "75%        195.000000\n",
      "max      10000.000000\n",
      "Name: Price, dtype: float64 \n",
      "\n",
      "Total Missings: \n",
      " 0 \n",
      "\n"
     ]
    },
    {
     "data": {
      "image/png": "[encoded data removed]",
      "text/plain": [
       "<Figure size 640x480 with 1 Axes>"
      ]
     },
     "metadata": {},
     "output_type": "display_data"
    }
   ],
   "source": [
    "## 2.1 cont.  the cleaning\n",
    "df[var] = df[var].str.replace(',', '')\n",
    "\n",
    "# How to coerce a variable to numeric:\n",
    "df['Price'] = pd.to_numeric(df['Price'], errors='coerce') # Coerce the variable to numeric\n",
    "\n",
    "# Create a missing dummy:\n",
    "df['price_nan'] = df['Price'].isnull() # Equals 1 if missing, 0 if non-null\n",
    "\n",
    "# After coercion:\n",
    "print('After coercion: \\n', df['Price'].describe(),'\\n') # Describe the numeric variable\n",
    "df['Price'].hist(bins = 50) # Histogram of the variable values\n",
    "print('Total Missings: \\n', sum(df['price_nan']),'\\n') # How many missing values are there?"
   ]
  },
  {
   "cell_type": "markdown",
   "id": "58342a51",
   "metadata": {},
   "source": [
    "**2.2 Explanation**\n",
    "\n",
    "First I wanted to see what the different categories in the data looked like, and how many reports those had. Then I could determine what categories I wanted to group together. \n",
    "After seeing online that a Sea Disaster is an event involving 1 or more ships, I decided to group that category and all boat-related ones under the more general Watercraft category. \n",
    "Next, I decided to group the unconfirmed/questionable/unverified/under investigation categories under Invalid, because if the type could not be confirmed, then I did not want it to be considered a valid category on its own. However, I did not remove all the values entirely because I thought it could be informative to see how many of all the reports were not considered valid.\n",
    "\n",
    "See 2 code blocks below."
   ]
  },
  {
   "cell_type": "code",
   "execution_count": 3,
   "id": "cf4ed35b",
   "metadata": {},
   "outputs": [
    {
     "name": "stdout",
     "output_type": "stream",
     "text": [
      "Unprovoked             4716\n",
      "Provoked                593\n",
      "Invalid                 552\n",
      "Sea Disaster            239\n",
      "Watercraft              142\n",
      "Boat                    109\n",
      "Boating                  92\n",
      "Questionable             10\n",
      "Unconfirmed               1\n",
      "Unverified                1\n",
      "Under investigation       1\n",
      "Boatomg                   1\n",
      "Name: Type, dtype: int64 \n",
      "\n"
     ]
    }
   ],
   "source": [
    "import numpy as np # Import the numpy package into your workspace\n",
    "import matplotlib.pyplot as plt # Import matplotlib into your workspace\n",
    "import pandas as pd  # Import the pandas package into your workspace\n",
    "\n",
    "dfS = pd.read_csv('./data/sharks.csv',low_memory=False)\n",
    "varS= 'Type'\n",
    "print(dfS[varS].value_counts(),'\\n')"
   ]
  },
  {
   "cell_type": "code",
   "execution_count": 4,
   "id": "7dd573e1",
   "metadata": {},
   "outputs": [
    {
     "name": "stdout",
     "output_type": "stream",
     "text": [
      "Unprovoked    4716\n",
      "Provoked       593\n",
      "Watercraft     583\n",
      "Invalid        565\n",
      "Name: Type, dtype: int64\n"
     ]
    }
   ],
   "source": [
    "dfS[varS]=dfS[varS].replace(['Boating', 'Boat', 'Boatomg', 'Sea Disaster'], 'Watercraft')\n",
    "dfS[varS]=dfS[varS].replace(['Questionable', 'Unconfirmed', 'Unverified', 'Under investigation'], 'Invalid')\n",
    "print(dfS['Type'].value_counts())"
   ]
  },
  {
   "cell_type": "markdown",
   "id": "2dc90a82",
   "metadata": {},
   "source": [
    "**2.3 Explanation**\n",
    "\n",
    "Based on the codebook, we see that 0 means Not Released, 1 means Released, and 9 means Unclear. Viewing the value counts show that these are the only 3 values present in the data set anyways, so this is easy to handle. The question instructs to remove missing values, so this is talking about the cases with a value of 9, so I use the replace function to replace the sentences of type 9 with np.nan. The 1 and 0 are explanatory enough for release vs unreleased, so I am leaving the values as is. "
   ]
  },
  {
   "cell_type": "code",
   "execution_count": 5,
   "id": "b43708b8",
   "metadata": {},
   "outputs": [
    {
     "name": "stdout",
     "output_type": "stream",
     "text": [
      "1    19154\n",
      "0     3801\n",
      "9       31\n",
      "Name: WhetherDefendantWasReleasedPretrial, dtype: int64 \n",
      "\n"
     ]
    }
   ],
   "source": [
    "url = 'http://www.vcsc.virginia.gov/pretrialdataproject/October%202017%20Cohort_Virginia%20Pretrial%20Data%20Project_Deidentified%20FINAL%20Update_10272021.csv'\n",
    "dfV = pd.read_csv(url,low_memory=False) # Pandas downloads and loads the .csv file for you\n",
    "varV = 'WhetherDefendantWasReleasedPretrial'\n",
    "\n",
    "print(dfV[varV].value_counts(),'\\n')"
   ]
  },
  {
   "cell_type": "code",
   "execution_count": 6,
   "id": "42a9ec42",
   "metadata": {},
   "outputs": [
    {
     "name": "stdout",
     "output_type": "stream",
     "text": [
      "1.0    19154\n",
      "0.0     3801\n",
      "Name: WhetherDefendantWasReleasedPretrial, dtype: int64 \n",
      "\n"
     ]
    }
   ],
   "source": [
    "dfV[varV]=dfV[varV].replace(9, np.nan)\n",
    "print(dfV[varV].value_counts(),'\\n')"
   ]
  },
  {
   "cell_type": "markdown",
   "id": "39b998ce",
   "metadata": {},
   "source": [
    "**2.4 Explanation**\n",
    "\n",
    "Looking at the overall unique values for sentence length shows that the empty string ' ' is in there 9053 times. Then looking at the lengths by sentence type, we see that these all occur at type 4 and 9. 4 means pending/dismissed/deferred/etc, which would be no sentence, so we will assign these values to be 0. 9 means Not applicable (e.g., disposition record not found, or unknown), so we get rid of those during the coercion. In the end, only 274 values (which were type 9) were \"lost\" in the coercion. "
   ]
  },
  {
   "cell_type": "code",
   "execution_count": 7,
   "id": "cbbd4760",
   "metadata": {},
   "outputs": [
    {
     "name": "stdout",
     "output_type": "stream",
     "text": [
      "count     22986\n",
      "unique      484\n",
      "top            \n",
      "freq       9053\n",
      "Name: ImposedSentenceAllChargeInContactEvent, dtype: object \n",
      "\n",
      "count    22986.000000\n",
      "mean         1.901549\n",
      "std          1.951090\n",
      "min          0.000000\n",
      "25%          0.000000\n",
      "50%          1.000000\n",
      "75%          4.000000\n",
      "max          9.000000\n",
      "Name: SentenceTypeAllChargesAtConvictionInContactEvent, dtype: float64 \n",
      "\n",
      "[' ' '60' '12' '.985626283367556' '36' '6' '24' '5.91375770020534' '120'\n",
      " '72' '11.9917864476386' '0' '2.95687885010267' '84' '108' '300' '240'\n",
      " '180' '4' '96' '2' '54' '.328542094455852' '44' '5' '115' '132' '48'\n",
      " '258' '34' '76' '.164271047227926' '.131416837782341' '111' '9' '3'\n",
      " '1.97125256673511' '36.9856262833676' '.0657084188911704'\n",
      " '35.4928131416838' '106.492813141684' '8' '35' '18.3141683778234' '480'\n",
      " '32' '93' '234' '732' '1.16427104722793' '4.6570841889117' '21' '7'\n",
      " '4.49281314168378' '18' '600' '43.1642710472279' '179' '52' '30' '20'\n",
      " '192' '702' '14' '55' '53' '11.9055441478439' '114' '35.0061601642711'\n",
      " '68' '.657084188911704' '46.6242299794661' '102' '65' '200' '57'\n",
      " '24.3285420944559' '12.1642710472279' '117' '81.4928131416838'\n",
      " '22.4928131416838' '1980' '3.6570841889117' '56' '10' '2.79260780287474'\n",
      " '1' '47' '22' '1500' '40' '284' '11' '118' '42' '162' '156'\n",
      " '47.2956878850103' '105' '51' '246' '29' '75' '324' '360'\n",
      " '34.4804928131417' '120.328542094456' '59.9260780287474' '66'\n",
      " '59.9917864476386' '660' '51.1642710472279' '14.9568788501027'\n",
      " '3.98562628336756' '78' '228' '1.47843942505133' '62' '4.8' '86' '168'\n",
      " '23' '33' '48.0328542094456' '720' '348' '1200' '27' '49' '87' '420' '63'\n",
      " '79.9260780287474' '57.0349075975359' '49.9712525667351'\n",
      " '59.4928131416838' '17' '238.492813141684' '60.9856262833676' '126' '45'\n",
      " '158' '216' '227' '42.9568788501027' '445' '70.952772073922' '516'\n",
      " '177.82135523614' '1752' '90' '1080' '141' '4.82956878850103' '230' '31'\n",
      " '2208' '52.5133470225873' '69' '26' '33.4928131416838' '140' '131' '344'\n",
      " '219' '101' '71' '59' '58' '120.197125256674' '67' '35.4004106776181'\n",
      " '3.28542094455852' '40.1642710472279' '91' '1.7741273100616' '155'\n",
      " '34.4928131416838' '81' '92.3285420944559' '3.5482546201232' '207' '74'\n",
      " '518' '28' '8.95687885010267' '237' '404.673511293634' '18.1642710472279'\n",
      " '10.7433264887064' '551' '39' '15' '124' '43' '176' '19.4928131416838'\n",
      " '482' '129' '88' '46' '45.8542094455852' '128.628336755647'\n",
      " '136.492813141684' '108.328542094456' '50' '363.663244353183' '288' '250'\n",
      " '107' '81.0225872689938' '444' '205' '10.6570841889117' '19'\n",
      " '66.9856262833676' '38.4928131416838' '264' '276' '173' '222' '144' '294'\n",
      " '336' '431' '450' '73' '99.3285420944559' '128' '30.8069815195072'\n",
      " '31.5256673511294' '127' '202' '55.3285420944559' '89' '242'\n",
      " '1.31416837782341' '1029' '.788501026694045' '194.858316221766' '399'\n",
      " '39.6570841889117' '56.95687885' '198' '120.985626283368'\n",
      " '47.6570841889117' '148' '6.8993839835729' '65.3285420944559'\n",
      " '5.95277207392197' '.0985626283367557' '3.32854209445585'\n",
      " '3.94250513347023' '12.9856262833676' '6.98562628336756'\n",
      " '13.1498973305955' '15.1642710472279' '17.1971252566735'\n",
      " '17.9137577002053' '104' '212' '24.6570841889117' '72.6570841889117'\n",
      " '2.98562628336756' '144.985626283368' '31.9712525667351' '183'\n",
      " '4.98562628336756' '11.8213552361396' '252' '12.394250513347'\n",
      " '42.4928131416838' '10.1642710472279' '11.1642710472279'\n",
      " '5.49281314168378' '59.6632443531827' '12.3285420944559'\n",
      " '48.9856262833676' '240.985626283368' '2.6570841889117' '540'\n",
      " '2.97125256673511' '6.32854209445585' '23.6632443531828'\n",
      " '133.657084188912' '35.3285420944559' '456' '103' '1.72279260780287'\n",
      " '12.6570841889117' '11.6570841889117' '60.3285420944559'\n",
      " '3.78850102669405' '576' '2.13141683778234' '492' '14.9856262833676'\n",
      " '24.9856262833676' '61.9712525667351' '5.6570841889117' '16'\n",
      " '42.1642710472279' '.492813141683778' '138' '13.3141683778234'\n",
      " '11.8932238193018' '5.32854209445585' '95' '62.6570841889117'\n",
      " '3.08829568788501' '11.8275154004107' '1.64271047227926'\n",
      " '47.9917864476386' '4.27104722792608' '8.32854209445585'\n",
      " '3.31416837782341' '70' '77' '1.09856262833676' '48.1642710472279'\n",
      " '27.4928131416838' '6.93839835728953' '1011' '.68993839835729'\n",
      " '1.1170431211499' '1.49281314168378' '4.16427104722793'\n",
      " '1.19712525667351' '4.07392197125257' '188' '11.3285420944559'\n",
      " '.0328542094455852' '432' '11.952772073922' '36.4928131416838'\n",
      " '23.9835728952772' '9.98562628336756' '98' '36.3285420944559' '112'\n",
      " '.394250513347023' '13' '.262833675564682' '13.7987679671458'\n",
      " '5.8870636550308' '354' '5.91991786447639' '24.1642710472279'\n",
      " '62.95687885' '4.59958932238193' '123' '2.32854209445585'\n",
      " '23.9240246406571' '204' '197' '174' '16.1498973305955' '840' '440'\n",
      " '98.95687885' '17.952772073922' '63.9425051334702' '60.1314168377823'\n",
      " '12.1314168377823' '172.952772073922' '.197125256673511'\n",
      " '138.164271047228' '4.92813141683778' '.919917864476386'\n",
      " '18.9856262833676' '6.6570841889117' '2.85420944558522'\n",
      " '8.91375770020534' '146' '12.4928131416838' '.558521560574949'\n",
      " '.722792607802875' '5.82135523613963' '84.9856262833676'\n",
      " '6.16427104722793' '15.9856262833676' '64.5585215605749'\n",
      " '38.299794661191' '11.958932238193' '3.1211498973306' '126.328542094456'\n",
      " '5.16427104722793' '64' '42.6570841889117' '312' '19.9712525667351'\n",
      " '82.3285420944559' '23.9712525667351' '17.6242299794661'\n",
      " '121.971252566735' '59.6550308008214' '1.32854209445585'\n",
      " '7.97125256673511' '1.91991786447639' '.525667351129363'\n",
      " '9.32854209445585' '42.9856262833676' '41.9137577002053'\n",
      " '72.9856262833676' '12.4784394250513' '5.19096509240246' '473'\n",
      " '16.6570841889117' '109' '86.3285420944559' '41' '1.90554414784394'\n",
      " '94.1642710472279' '302' '4.39425051334702' '10.8213552361396'\n",
      " '18.3285420944559' '154' '83' '110.956878850103' '226' '96.0328542094456'\n",
      " '4.82135523613963' '30.3285420944559' '37.9712525667351'\n",
      " '50.4640657084189' '286' '99' '99.4928131416838' '2.6611909650924'\n",
      " '70.9712525667351' '13.9712525667351' '23.6570841889117'\n",
      " '.459958932238193' '132.492813141684' '283' '49.3141683778234'\n",
      " '27.9856262833676' '38' '7.6570841889117' '83.6550308008214'\n",
      " '10.9199178644764' '162.328542094456' '37' '132.328542094456'\n",
      " '35.952772073922' '165' '10.9856262833676' '20.1642710472279'\n",
      " '2.59137577002053' '175' '180.985626283368' '10.3285420944559'\n",
      " '36.1642710472279' '120.657084188912' '232' '152' '8.98562628336756'\n",
      " '167' '11.0657084188912' '11.2032854209446' '5.19712525667351'\n",
      " '3.16427104722793' '60.1642710472279' '1.18275154004107'\n",
      " '21.1642710472279' '2.19712525667351' '4.19712525667351'\n",
      " '2.62833675564682' '119.952772073922' '119.958932238193'\n",
      " '9.49281314168378' '5.25667351129363' '15.3285420944559'\n",
      " '2.82135523613963' '192.985626283368' '48.6570841889117'\n",
      " '5.95687885010267' '2.29979466119097' '960' '2.36550308008214' '116'\n",
      " '19.5133470225873' '1.6570841889117'] \n",
      "\n",
      "[9 0 1 4 2] \n",
      "\n",
      "9053\n"
     ]
    }
   ],
   "source": [
    "s_length = 'ImposedSentenceAllChargeInContactEvent'\n",
    "s_type = 'SentenceTypeAllChargesAtConvictionInContactEvent'\n",
    "print(dfV[s_length].describe(), '\\n')\n",
    "print(dfV[s_type].describe(), '\\n')\n",
    "print(dfV[s_length].unique(), '\\n')\n",
    "print(dfV[s_type].unique(),'\\n')\n",
    "\n",
    "print((dfV[s_length] == ' ').sum())\n"
   ]
  },
  {
   "cell_type": "code",
   "execution_count": 8,
   "id": "50497a9c",
   "metadata": {},
   "outputs": [
    {
     "name": "stdout",
     "output_type": "stream",
     "text": [
      "[' ']\n",
      "8779\n"
     ]
    }
   ],
   "source": [
    "df_filtered = dfV[dfV[s_type] == 4]\n",
    "print(df_filtered[s_length].unique())  #sentences where type == 4\n",
    "\n",
    "print((df_filtered[s_length] == ' ').sum())"
   ]
  },
  {
   "cell_type": "code",
   "execution_count": 9,
   "id": "a2c284c6",
   "metadata": {},
   "outputs": [
    {
     "name": "stdout",
     "output_type": "stream",
     "text": [
      "274\n"
     ]
    }
   ],
   "source": [
    "dfV.loc[ dfV[s_type] == 4, s_length] = 0 # No bond posted\n",
    "# print(dfV[s_length].unique(), '\\n')\n",
    "\n",
    "print((dfV[s_length] == ' ').sum())\n"
   ]
  },
  {
   "cell_type": "code",
   "execution_count": 10,
   "id": "5a5e88dd",
   "metadata": {},
   "outputs": [
    {
     "name": "stdout",
     "output_type": "stream",
     "text": [
      "[' ']\n",
      "274\n"
     ]
    }
   ],
   "source": [
    "df_filtered = dfV[dfV[s_type] == 9]\n",
    "print(df_filtered[s_length].unique())  #sentences where type == 4\n",
    "print((df_filtered[s_length] == ' ').sum())\n"
   ]
  },
  {
   "cell_type": "code",
   "execution_count": 11,
   "id": "fe559d04",
   "metadata": {},
   "outputs": [
    {
     "name": "stdout",
     "output_type": "stream",
     "text": [
      "After coercion: \n",
      " count    22712.000000\n",
      "mean        12.207737\n",
      "std         50.725352\n",
      "min          0.000000\n",
      "25%          0.000000\n",
      "50%          0.000000\n",
      "75%          5.000000\n",
      "max       2208.000000\n",
      "Name: ImposedSentenceAllChargeInContactEvent, dtype: float64 \n",
      "\n",
      "Total Missings: \n",
      " 274 \n",
      "\n"
     ]
    }
   ],
   "source": [
    "dfV[s_length] = pd.to_numeric(dfV[s_length], errors='coerce') # Coerce the variable to numeric\n",
    "\n",
    "# Create a missing dummy:\n",
    "dfV['s_length_nan'] = dfV[s_length].isnull() # Equals 1 if missing, 0 if non-null\n",
    "\n",
    "# After coercion:\n",
    "print('After coercion: \\n', dfV[s_length].describe(),'\\n') # Describe the numeric variable\n",
    "print('Total Missings: \\n', sum(dfV['s_length_nan']),'\\n') # How many missing values are there?\n"
   ]
  }
 ],
 "metadata": {
  "kernelspec": {
   "display_name": "Python 3 (ipykernel)",
   "language": "python",
   "name": "python3"
  },
  "language_info": {
   "codemirror_mode": {
    "name": "ipython",
    "version": 3
   },
   "file_extension": ".py",
   "mimetype": "text/x-python",
   "name": "python",
   "nbconvert_exporter": "python",
   "pygments_lexer": "ipython3",
   "version": "3.11.4"
  }
 },
 "nbformat": 4,
 "nbformat_minor": 5
}
